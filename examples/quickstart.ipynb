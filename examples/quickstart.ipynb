{
 "cells": [
  {
   "cell_type": "code",
   "execution_count": 5,
   "metadata": {},
   "outputs": [
    {
     "name": "stdout",
     "output_type": "stream",
     "text": [
      "The autoreload extension is already loaded. To reload it, use:\n",
      "  %reload_ext autoreload\n"
     ]
    }
   ],
   "source": [
    "# %matplotlib notebook\n",
    "%matplotlib widget\n",
    "%load_ext autoreload\n",
    "%autoreload 2\n",
    "\n",
    "import warnings\n",
    "warnings.filterwarnings('ignore')"
   ]
  },
  {
   "cell_type": "markdown",
   "metadata": {},
   "source": [
    "# Quickstart\n",
    "\n",
    "In this tutorial we show the basic usage of the reloaded Rossiter-McLaughlin model for the stellar surface velocity as implemented in `elle`. You will need `numpy`, `matplotlib`, `elle`, and `emcee` to run this tutorial.\n",
    "\n",
    "We will start by defining the orbital parameters of a typical hot Jupiter system, and create some synthetic stellar surface velocity data that we may have retrieved from an analysis of the in-transit cross-correlation functions (CCFs). For an in-depth guide of how to derive the stellar surface velocity data from CCFs, see the tutorial for HD189733b in `<name>`."
   ]
  },
  {
   "cell_type": "code",
   "execution_count": 94,
   "metadata": {},
   "outputs": [],
   "source": [
    "import numpy as np\n",
    "import matplotlib.pyplot as plt\n",
    "import sys\n",
    "sys.path.append(\"/Users/vxh710/PhD/software/elle\")\n",
    "import utils, model\n",
    "\n",
    "period = 3                              # orbital period (days)\n",
    "t0     = 0                              # transit time (BJD)\n",
    "roa    = 0.1                            # scaled stellar radius\n",
    "ror    = 0.1                            # planet-star radius ratio\n",
    "b      = 0.5                            # impact parameter\n",
    "incl   = np.rad2deg(np.arccos(b * roa)) # orbital inclination (deg)\n",
    "u      = [0.4, 0.3]                     # limb darkening coefficients for quadratic law\n",
    "vsini  = 3                              # stellar projected rotation (km/s)\n",
    "ell    = 0                              # spin-orbit angle (deg)\n",
    "\n",
    "# compute transit duration between contacts\n",
    "dur14 = utils.get_14_transit_duration(period, roa, ror, b, np.deg2rad(incl))\n",
    "dur23 = utils.get_23_transit_duration(period, roa, ror, b, np.deg2rad(incl))\n",
    "\n",
    "# timestamps with 10min exposures and 1min dead-time\n",
    "phase = np.arange(t0 - 0.45 * dur14,\n",
    "                  t0 + 0.45 * dur14,\n",
    "                  (10+1) / (60*24)\n",
    "                ) / period\n",
    "\n",
    "istar = 90. # stellar inclination\n",
    "alpha = 0. # assume rigid body, no differential rotation\n",
    "\n",
    "# create the orbit model that describes the transit chord along the surface of the star\n",
    "model_kwargs = {'r_1':roa, 'i_p':incl, 'r_p':ror, 'ld':'quad', 'ldc':u, 'Nxy':51}\n",
    "orbit = model.ReloadedModel(phase, **model_kwargs)\n",
    "\n",
    "# get the radial velocity of the local stellar surface (at each transit epoch)\n",
    "rv  = orbit(vsini, ell, istar, alpha)\n",
    "\n",
    "# generate data with some noise\n",
    "np.random.seed(17)\n",
    "N = len(rv)\n",
    "rv_err = 0.1 + 0.02 * np.random.randn(N)\n",
    "rv += rv_err * np.random.randn(N)\n",
    "\n"
   ]
  },
  {
   "cell_type": "markdown",
   "metadata": {},
   "source": [
    "Note that when using `elle`, we first define an `orbit` which describes the path of the transit chord across the stellar disc given some orbital parameters. This model is then used to compute the surface velocity at each epoch based on several stellar parameters that define the star's rotation and orientation relative to the planet orbit.\n",
    "\n",
    "In the plot below we show our synthetic data along with some lines that denote the transit contacts."
   ]
  },
  {
   "cell_type": "code",
   "execution_count": 90,
   "metadata": {},
   "outputs": [
    {
     "data": {
      "application/vnd.jupyter.widget-view+json": {
       "model_id": "da4364078781473c876a98467f585b55",
       "version_major": 2,
       "version_minor": 0
      },
      "text/plain": [
       "Canvas(toolbar=Toolbar(toolitems=[('Home', 'Reset original view', 'home', 'home'), ('Back', 'Back to previous …"
      ]
     },
     "metadata": {},
     "output_type": "display_data"
    },
    {
     "data": {
      "text/plain": [
       "Text(0, 0.5, 'stellar surface velocity (km/s)')"
      ]
     },
     "execution_count": 90,
     "metadata": {},
     "output_type": "execute_result"
    }
   ],
   "source": [
    "plt.figure()\n",
    "\n",
    "# transit contacts\n",
    "c1, c2, c3, c4 = 0.5 / period * np.array([-dur14, -dur23, dur23, dur14])\n",
    "\n",
    "plt.axvline(c1, c='#aaaaaa', lw=1, ls='solid')\n",
    "plt.axvline(c2, c='#aaaaaa', lw=1, ls='dotted')\n",
    "plt.axvline(c3, c='#aaaaaa', lw=1, ls='dotted')\n",
    "plt.axvline(c4, c='#aaaaaa', lw=1, ls='solid')\n",
    "\n",
    "plt.errorbar(phase, rv, rv_err, capsize=0, c='k', fmt='.', elinewidth=0.5)\n",
    "plt.xlabel('phase')\n",
    "plt.ylabel('stellar surface velocity (km/s)')"
   ]
  },
  {
   "cell_type": "markdown",
   "metadata": {},
   "source": [
    "Looks good! We will fit these data using `emcee`, where our simplest model only consists of two parameters: the projected stellar rotation $v\\sin{i}$, and sky-projected spin-orbit angle $\\lambda$. We will instead sample two related parameters, $\\sqrt{v\\sin{i}} \\sin{\\lambda}$ and $\\sqrt{v\\sin{i}} \\cos{\\lambda}$ (e.g. Triaud+ XXXX), which can sometimes improve performance."
   ]
  },
  {
   "cell_type": "code",
   "execution_count": 91,
   "metadata": {},
   "outputs": [
    {
     "name": "stderr",
     "output_type": "stream",
     "text": [
      "100%|██████████| 10000/10000 [13:44<00:00, 12.12it/s]\n"
     ]
    }
   ],
   "source": [
    "from multiprocessing import Pool\n",
    "import emcee\n",
    "sys.path.append(\"/Users/vxh710/PhD/software/elle\")\n",
    "import model\n",
    "\n",
    "bounds = (-10, 10) # uniform bounds on sqrt(vsini) * {sin lambda, cos lambda}\n",
    "\n",
    "def _log_prior(theta):\n",
    "        \n",
    "    vs, vc = theta\n",
    "    \n",
    "    if vs < bounds[0] or vs > bounds[1]:\n",
    "        return -np.inf\n",
    "    elif vc < bounds[0] or vc > bounds[1]:\n",
    "        return -np.inf\n",
    "\n",
    "    return 0\n",
    "\n",
    "def _log_likelihood(data, model, error):\n",
    "        inv_sigma2 = 1/error**2\n",
    "        return -0.5 * np.sum((data - model)**2 * inv_sigma2 - np.log(inv_sigma2))\n",
    "\n",
    "def _log_probability(theta):\n",
    "\n",
    "    # calculate prior and check the new parameters are within bounds\n",
    "    l = _log_prior(theta)\n",
    "    \n",
    "    if not np.isfinite(l):\n",
    "        return -np.inf\n",
    "    \n",
    "    # calculate vsini and lambda from the free parameters\n",
    "    vs, vc = theta # vs = sqrt(vsini) * np.sin(lambda); vc = sqrt(vsini) * np.cos(lambda)\n",
    "    vsini = vs**2 + vc**2  \n",
    "    ell = np.rad2deg(np.arctan2(vs, vc))\n",
    "\n",
    "    mod = orbit(vsini, ell, istar, alpha) # calculate surface RV model\n",
    "\n",
    "    l += _log_likelihood(rv, mod, rv_err)\n",
    "    \n",
    "    return l\n",
    "\n",
    "parameters = ['vs', 'vc']\n",
    "ndim = len(parameters)\n",
    "\n",
    "threads = 4\n",
    "walkers = 200\n",
    "steps = 10000\n",
    "\n",
    "init = np.random.uniform(*bounds, (walkers, 2))\n",
    "    \n",
    "if threads > 1:\n",
    "    os.environ[\"OMP_NUM_THREADS\"] = \"1\"\n",
    "    with Pool(processes=threads) as pool:\n",
    "        sampler = emcee.EnsembleSampler(walkers, ndim,\n",
    "                                        _log_probability,\n",
    "                                        pool=pool)\n",
    "        sampler.run_mcmc(init, steps, progress=True)\n",
    "else:\n",
    "    sampler = emcee.EnsembleSampler(walkers, ndim,\n",
    "                                        _log_probability)\n",
    "    sampler.run_mcmc(init, steps, progress=True)"
   ]
  },
  {
   "cell_type": "code",
   "execution_count": 92,
   "metadata": {},
   "outputs": [
    {
     "data": {
      "application/vnd.jupyter.widget-view+json": {
       "model_id": "49662582c31f4dc3b6570b008eed9ea6",
       "version_major": 2,
       "version_minor": 0
      },
      "text/plain": [
       "Canvas(toolbar=Toolbar(toolitems=[('Home', 'Reset original view', 'home', 'home'), ('Back', 'Back to previous …"
      ]
     },
     "metadata": {},
     "output_type": "display_data"
    }
   ],
   "source": [
    "# discard = int(0.5 * steps)\n",
    "# thin = int(np.mean(sampler.get_autocorr_time(discard=discard)))\n",
    "\n",
    "# stepsarr = np.arange(int((steps-discard)/thin))\n",
    "\n",
    "# fig, axes = plt.subplots(ndim+1,1, figsize=(10,2*ndim),\n",
    "#         gridspec_kw={\"hspace\":0.04})\n",
    "\n",
    "\n",
    "# vsini = np.sum(sampler.get_chain(discard=discard, thin=thin)**2, axis=-1)\n",
    "# ell = np.rad2deg(np.arctan2(*np.rollaxis(sampler.get_chain(discard=discard, thin=thin), 2, 0)))\n",
    "# posterior_3d = np.dstack((vsini, ell))\n",
    "\n",
    "\n",
    "# labels = ['logp', '$v\\sin{i}$ (km/s)', '$\\lambda$ (deg)']\n",
    "\n",
    "# for i in range(ndim+1):\n",
    "#     axes[i].set_xlim(0, stepsarr.max())\n",
    "#     for j in range(walkers):\n",
    "#         if i == 0:\n",
    "#             axes[i].plot(stepsarr, sampler.get_log_prob(discard=discard, thin=thin)[:,j], lw=0.5)\n",
    "#         else:\n",
    "#             axes[i].plot(stepsarr, posterior_3d[:,j,i-1], lw=0.5)\n",
    "#         axes[i].set_ylabel(labels[i])\n",
    "#         if i == ndim:\n",
    "#             axes[i].set_xlabel('steps')\n",
    "#         else:\n",
    "#             axes[i].tick_params(labelbottom=False)\n",
    "\n"
   ]
  },
  {
   "cell_type": "code",
   "execution_count": 95,
   "metadata": {},
   "outputs": [
    {
     "data": {
      "application/vnd.jupyter.widget-view+json": {
       "model_id": "4ba516426fc5422992121b138848a184",
       "version_major": 2,
       "version_minor": 0
      },
      "text/plain": [
       "Canvas(toolbar=Toolbar(toolitems=[('Home', 'Reset original view', 'home', 'home'), ('Back', 'Back to previous …"
      ]
     },
     "metadata": {},
     "output_type": "display_data"
    }
   ],
   "source": [
    "import corner\n",
    "\n",
    "# discard burn-in points and thin chains by the autocorrelation length\n",
    "discard = int(0.5 * steps)\n",
    "thin = int(np.mean(sampler.get_autocorr_time(discard=discard)))\n",
    "\n",
    "# compute vsini and lambda\n",
    "posterior = sampler.get_chain(discard=discard, thin=thin, flat=True)\n",
    "_vsini = np.sum(posterior**2, axis=-1)\n",
    "_ell = np.rad2deg(np.arctan2(*posterior.T))\n",
    "posterior = np.column_stack((_vsini, _ell))\n",
    "\n",
    "labels = [\"$v\\sin{i}$ (km/s)\", \"$\\lambda$ (deg)\"]\n",
    "\n",
    "fig = corner.corner(posterior,\n",
    "             labels=labels, show_titles=True, title_fmt=\".2f\",\n",
    "            truths=[vsini, ell])"
   ]
  },
  {
   "cell_type": "markdown",
   "metadata": {},
   "source": [
    "From the corner plot above we see that we recover the true values. Finally, we plot the best-fitting model to the data."
   ]
  },
  {
   "cell_type": "code",
   "execution_count": 97,
   "metadata": {},
   "outputs": [
    {
     "data": {
      "application/vnd.jupyter.widget-view+json": {
       "model_id": "47707949b4614f79909384de5d2e3299",
       "version_major": 2,
       "version_minor": 0
      },
      "text/plain": [
       "Canvas(toolbar=Toolbar(toolitems=[('Home', 'Reset original view', 'home', 'home'), ('Back', 'Back to previous …"
      ]
     },
     "metadata": {},
     "output_type": "display_data"
    },
    {
     "data": {
      "text/plain": [
       "<matplotlib.lines.Line2D at 0x1a381a0b50>"
      ]
     },
     "execution_count": 97,
     "metadata": {},
     "output_type": "execute_result"
    }
   ],
   "source": [
    "theta_ml = posterior[np.argmax(sampler.get_log_prob(discard=discard, thin=thin, flat=True))]\n",
    "\n",
    "rv_mod = orbit(*theta_ml, istar, alpha, phase=phase)\n",
    "\n",
    "phase_f = np.linspace(-0.5 * dur14/period, 0.5 * dur14/period, 200)\n",
    "rv_mod_f = orbit(*theta_ml, istar, alpha, phase=phase_f)\n",
    "\n",
    "gridspec_kw = {\n",
    "              'height_ratios':[3,1], \n",
    "              'hspace':0.03,\n",
    "              'wspace':0.02\n",
    "              }\n",
    "\n",
    "fig, (ax1, ax2) = plt.subplots(2, 1, gridspec_kw=gridspec_kw)\n",
    "\n",
    "\n",
    "ax1.set_ylabel('stellar surface velocity (km/s)')\n",
    "ax1.tick_params(axis='x', which='both', labelbottom=False)\n",
    "ax2.set_xlabel('phase')\n",
    "ax2.set_ylabel(\"O - C (km/s)\")\n",
    "\n",
    "c1, c2, c3, c4 = 0.5 / period * np.array([-dur14, -dur23, dur23, dur14])\n",
    "\n",
    "ax1.axvline(c1, c='#aaaaaa', lw=1, ls='solid')\n",
    "ax1.axvline(c2, c='#aaaaaa', lw=1, ls='dotted')\n",
    "ax1.axvline(c3, c='#aaaaaa', lw=1, ls='dotted')\n",
    "ax1.axvline(c4, c='#aaaaaa', lw=1, ls='solid')\n",
    "\n",
    "ax1.errorbar(phase, rv, yerr=rv_err, capsize=0, c='k', fmt='.', elinewidth=0.5)\n",
    "ax1.plot(phase_f, rv_mod_f, color='C0', lw=1.5)\n",
    "\n",
    "ax2.errorbar(phase, rv - rv_mod, yerr=rv_err, capsize=0, c='k', fmt='.', elinewidth=0.5)\n",
    "ax2.axhline(0, c=\"#aaaaaa\", lw=1.5)\n"
   ]
  },
  {
   "cell_type": "code",
   "execution_count": null,
   "metadata": {},
   "outputs": [],
   "source": []
  }
 ],
 "metadata": {
  "kernelspec": {
   "display_name": "Python 3",
   "language": "python",
   "name": "python3"
  },
  "language_info": {
   "codemirror_mode": {
    "name": "ipython",
    "version": 3
   },
   "file_extension": ".py",
   "mimetype": "text/x-python",
   "name": "python",
   "nbconvert_exporter": "python",
   "pygments_lexer": "ipython3",
   "version": "3.7.4"
  }
 },
 "nbformat": 4,
 "nbformat_minor": 4
}
