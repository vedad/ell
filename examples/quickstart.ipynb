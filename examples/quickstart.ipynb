{
 "cells": [
  {
   "cell_type": "code",
   "execution_count": 1,
   "metadata": {},
   "outputs": [
    {
     "name": "stderr",
     "output_type": "stream",
     "text": [
      "In /Users/vxh710/.matplotlib/stylelib/paper.mplstyle: \n",
      "The text.latex.unicode rcparam was deprecated in Matplotlib 3.0 and will be removed in 3.2.\n",
      "In /Users/vxh710/.matplotlib/stylelib/presentation.mplstyle: \n",
      "The text.latex.unicode rcparam was deprecated in Matplotlib 3.0 and will be removed in 3.2.\n",
      "In /Users/vxh710/.matplotlib/stylelib/poster_dark.mplstyle: \n",
      "The text.latex.unicode rcparam was deprecated in Matplotlib 3.0 and will be removed in 3.2.\n",
      "In /Users/vxh710/.matplotlib/stylelib/paper_twocol.mplstyle: \n",
      "The text.latex.unicode rcparam was deprecated in Matplotlib 3.0 and will be removed in 3.2.\n",
      "In /Users/vxh710/.matplotlib/stylelib/poster.mplstyle: \n",
      "The text.latex.unicode rcparam was deprecated in Matplotlib 3.0 and will be removed in 3.2.\n",
      "In /Users/vxh710/.matplotlib/stylelib/presentation_dark.mplstyle: \n",
      "The text.latex.unicode rcparam was deprecated in Matplotlib 3.0 and will be removed in 3.2.\n"
     ]
    }
   ],
   "source": [
    "# %matplotlib notebook\n",
    "%matplotlib widget\n",
    "%load_ext autoreload\n",
    "%autoreload 2\n",
    "\n",
    "import warnings\n",
    "warnings.filterwarnings('ignore')"
   ]
  },
  {
   "cell_type": "markdown",
   "metadata": {},
   "source": [
    "# Quickstart\n",
    "\n",
    "In this tutorial we show the basic usage of the reloaded Rossiter-McLaughlin model for the stellar surface velocity as implemented in `elle`. You will need `numpy`, `matplotlib`, `elle`, and `emcee` to run this tutorial.\n",
    "\n",
    "We will start by defining the orbital parameters of a typical hot Jupiter system, and create some synthetic stellar surface velocity data that we may have retrieved from an analysis of the in-transit cross-correlation functions (CCFs). For an in-depth guide of how to derive the stellar surface velocity data from CCFs, see the tutorial for HD189733b in `<name>`."
   ]
  },
  {
   "cell_type": "code",
   "execution_count": 157,
   "metadata": {},
   "outputs": [
    {
     "data": {
      "application/vnd.jupyter.widget-view+json": {
       "model_id": "38896d09b48444808d4f0b5870625050",
       "version_major": 2,
       "version_minor": 0
      },
      "text/plain": [
       "Canvas(toolbar=Toolbar(toolitems=[('Home', 'Reset original view', 'home', 'home'), ('Back', 'Back to previous …"
      ]
     },
     "metadata": {},
     "output_type": "display_data"
    }
   ],
   "source": [
    "import numpy as np\n",
    "import matplotlib.pyplot as plt\n",
    "import sys\n",
    "sys.path.append(\"/Users/vxh710/PhD/software/elle/elle\")\n",
    "import utils, model, plots\n",
    "import os\n",
    "\n",
    "period = 3                              # orbital period (days)\n",
    "t0     = 0                              # transit time (BJD)\n",
    "roa    = 0.1                            # scaled stellar radius\n",
    "ror    = 0.1                            # planet-star radius ratio\n",
    "b      = 0.0                           # impact parameter\n",
    "incl   = np.rad2deg(np.arccos(b * roa)) # orbital inclination (deg)\n",
    "u      = [0.4, 0.3]                     # limb darkening coefficients for quadratic law\n",
    "vsini  = 3                              # stellar projected rotation (km/s)\n",
    "ell    = 0                              # spin-orbit angle (deg)\n",
    "\n",
    "# compute transit duration between contacts\n",
    "dur14 = utils.get_14_transit_duration(period, roa, ror, b, np.deg2rad(incl))\n",
    "dur23 = utils.get_23_transit_duration(period, roa, ror, b, np.deg2rad(incl))\n",
    "\n",
    "# timestamps with 10min exposures and 1min dead-time\n",
    "phase = np.arange(t0 - 0.45 * dur14,\n",
    "                  t0 + 0.45 * dur14,\n",
    "                  (10+1) / (60*24)\n",
    "                ) / period\n",
    "\n",
    "\n",
    "istar = 90. # stellar inclination\n",
    "alpha = 0. # assume rigid body, no differential rotation\n",
    "\n",
    "# create the orbit model that describes the transit chord along the surface of the star\n",
    "model_kwargs = {'r_1':roa, 'i_p':incl, 'r_p':ror, 'ld':'quad', 'ldc':u, 'Nxy':51}\n",
    "orbit = model.ReloadedModel(phase, **model_kwargs)\n",
    "\n",
    "# get the radial velocity of the local stellar surface (at each transit epoch)\n",
    "rv  = orbit(vsini, ell, istar, alpha)\n",
    "phase_f = np.linspace(-0.5*dur14, 0.5*dur14, 200)\n",
    "orbitf = model.ReloadedModel(phase_f, **model_kwargs)\n",
    "\n",
    "# get the radial velocity of the local stellar surface (at each transit epoch)\n",
    "rv_f  = orbitf(vsini, ell, istar, alpha)\n",
    "plt.figure()\n",
    "plt.plot(phase_f, rv_f)\n",
    "# generate data with some noise\n",
    "np.random.seed(17)\n",
    "N = len(rv)\n",
    "rv_err = 0.1 + 0.02 * np.random.randn(N)\n",
    "rv += rv_err * np.random.randn(N)\n",
    "\n",
    "\n"
   ]
  },
  {
   "cell_type": "markdown",
   "metadata": {},
   "source": [
    "Note that when using `elle`, we first define an `orbit` which describes the path of the transit chord across the stellar disc given some orbital parameters. This model is then used to compute the surface velocity at each epoch based on several stellar parameters that define the star's rotation and orientation relative to the planet orbit.\n",
    "\n",
    "In the plot below we show our synthetic data along with some lines that denote the transit contacts."
   ]
  },
  {
   "cell_type": "code",
   "execution_count": 5,
   "metadata": {},
   "outputs": [
    {
     "data": {
      "application/vnd.jupyter.widget-view+json": {
       "model_id": "562fd5ae3e0e4397b13a17a9ff695cb0",
       "version_major": 2,
       "version_minor": 0
      },
      "text/plain": [
       "Canvas(toolbar=Toolbar(toolitems=[('Home', 'Reset original view', 'home', 'home'), ('Back', 'Back to previous …"
      ]
     },
     "metadata": {},
     "output_type": "display_data"
    },
    {
     "data": {
      "text/plain": [
       "Text(0, 0.5, 'stellar surface velocity (km/s)')"
      ]
     },
     "execution_count": 5,
     "metadata": {},
     "output_type": "execute_result"
    }
   ],
   "source": [
    "plt.figure()\n",
    "\n",
    "# transit contacts\n",
    "c1, c2, c3, c4 = 0.5 / period * np.array([-dur14, -dur23, dur23, dur14])\n",
    "\n",
    "plt.axvline(c1, c='#aaaaaa', lw=1, ls='solid')\n",
    "plt.axvline(c2, c='#aaaaaa', lw=1, ls='dotted')\n",
    "plt.axvline(c3, c='#aaaaaa', lw=1, ls='dotted')\n",
    "plt.axvline(c4, c='#aaaaaa', lw=1, ls='solid')\n",
    "\n",
    "plt.errorbar(phase, rv, rv_err, capsize=0, c='k', fmt='.', elinewidth=0.5)\n",
    "plt.xlabel('phase')\n",
    "plt.ylabel('stellar surface velocity (km/s)')"
   ]
  },
  {
   "cell_type": "markdown",
   "metadata": {},
   "source": [
    "Looks good! We will fit these data using `emcee`, where our simplest model only consists of two parameters: the projected stellar rotation $v\\sin{i}$, and sky-projected spin-orbit angle $\\lambda$. We will instead sample two related parameters, $\\sqrt{v\\sin{i}} \\sin{\\lambda}$ and $\\sqrt{v\\sin{i}} \\cos{\\lambda}$ (e.g. Triaud+ XXXX), which can sometimes improve performance."
   ]
  },
  {
   "cell_type": "code",
   "execution_count": 9,
   "metadata": {},
   "outputs": [
    {
     "name": "stderr",
     "output_type": "stream",
     "text": [
      "100%|██████████| 2000/2000 [00:55<00:00, 36.21it/s]\n"
     ]
    }
   ],
   "source": [
    "from multiprocessing import Pool\n",
    "import emcee\n",
    "sys.path.append(\"/Users/vxh710/PhD/software/elle\")\n",
    "import model\n",
    "\n",
    "bounds = (-10, 10) # uniform bounds on sqrt(vsini) * {sin lambda, cos lambda}\n",
    "\n",
    "def _log_prior(theta):\n",
    "        \n",
    "    vs, vc = theta\n",
    "    \n",
    "    if vs < bounds[0] or vs > bounds[1]:\n",
    "        return -np.inf\n",
    "    elif vc < bounds[0] or vc > bounds[1]:\n",
    "        return -np.inf\n",
    "\n",
    "    return 0\n",
    "\n",
    "def _log_likelihood(data, model, error):\n",
    "        inv_sigma2 = 1/error**2\n",
    "        return -0.5 * np.sum((data - model)**2 * inv_sigma2 - np.log(inv_sigma2))\n",
    "\n",
    "def _log_probability(theta):\n",
    "\n",
    "    # calculate prior and check the new parameters are within bounds\n",
    "    l = _log_prior(theta)\n",
    "    \n",
    "    if not np.isfinite(l):\n",
    "        return -np.inf\n",
    "    \n",
    "    # calculate vsini and lambda from the free parameters\n",
    "    vs, vc = theta # vs = sqrt(vsini) * np.sin(lambda); vc = sqrt(vsini) * np.cos(lambda)\n",
    "    vsini = vs**2 + vc**2  \n",
    "    ell = np.rad2deg(np.arctan2(vs, vc))\n",
    "\n",
    "    mod = orbit(vsini, ell, istar, alpha) # calculate surface RV model\n",
    "\n",
    "    l += _log_likelihood(rv, mod, rv_err)\n",
    "    \n",
    "    return l\n",
    "\n",
    "parameters = ['vs', 'vc']\n",
    "ndim = len(parameters)\n",
    "\n",
    "threads = 4\n",
    "# walkers = 200\n",
    "# steps = 10000\n",
    "walkers = 100\n",
    "steps = 2000\n",
    "\n",
    "init = np.random.uniform(*bounds, (walkers, 2))\n",
    "    \n",
    "if threads > 1:\n",
    "    os.environ[\"OMP_NUM_THREADS\"] = \"1\"\n",
    "    with Pool(processes=threads) as pool:\n",
    "        sampler = emcee.EnsembleSampler(walkers, ndim,\n",
    "                                        _log_probability,\n",
    "                                        pool=pool)\n",
    "        sampler.run_mcmc(init, steps, progress=True)\n",
    "else:\n",
    "    sampler = emcee.EnsembleSampler(walkers, ndim,\n",
    "                                        _log_probability)\n",
    "    sampler.run_mcmc(init, steps, progress=True)"
   ]
  },
  {
   "cell_type": "code",
   "execution_count": 92,
   "metadata": {},
   "outputs": [
    {
     "data": {
      "application/vnd.jupyter.widget-view+json": {
       "model_id": "49662582c31f4dc3b6570b008eed9ea6",
       "version_major": 2,
       "version_minor": 0
      },
      "text/plain": [
       "Canvas(toolbar=Toolbar(toolitems=[('Home', 'Reset original view', 'home', 'home'), ('Back', 'Back to previous …"
      ]
     },
     "metadata": {},
     "output_type": "display_data"
    }
   ],
   "source": [
    "# discard = int(0.5 * steps)\n",
    "# thin = int(np.mean(sampler.get_autocorr_time(discard=discard)))\n",
    "\n",
    "# stepsarr = np.arange(int((steps-discard)/thin))\n",
    "\n",
    "# fig, axes = plt.subplots(ndim+1,1, figsize=(10,2*ndim),\n",
    "#         gridspec_kw={\"hspace\":0.04})\n",
    "\n",
    "\n",
    "# vsini = np.sum(sampler.get_chain(discard=discard, thin=thin)**2, axis=-1)\n",
    "# ell = np.rad2deg(np.arctan2(*np.rollaxis(sampler.get_chain(discard=discard, thin=thin), 2, 0)))\n",
    "# posterior_3d = np.dstack((vsini, ell))\n",
    "\n",
    "\n",
    "# labels = ['logp', '$v\\sin{i}$ (km/s)', '$\\lambda$ (deg)']\n",
    "\n",
    "# for i in range(ndim+1):\n",
    "#     axes[i].set_xlim(0, stepsarr.max())\n",
    "#     for j in range(walkers):\n",
    "#         if i == 0:\n",
    "#             axes[i].plot(stepsarr, sampler.get_log_prob(discard=discard, thin=thin)[:,j], lw=0.5)\n",
    "#         else:\n",
    "#             axes[i].plot(stepsarr, posterior_3d[:,j,i-1], lw=0.5)\n",
    "#         axes[i].set_ylabel(labels[i])\n",
    "#         if i == ndim:\n",
    "#             axes[i].set_xlabel('steps')\n",
    "#         else:\n",
    "#             axes[i].tick_params(labelbottom=False)\n",
    "\n"
   ]
  },
  {
   "cell_type": "code",
   "execution_count": 12,
   "metadata": {},
   "outputs": [
    {
     "data": {
      "application/vnd.jupyter.widget-view+json": {
       "model_id": "e66d0e1384124bf4901f9de972a951ab",
       "version_major": 2,
       "version_minor": 0
      },
      "text/plain": [
       "Canvas(toolbar=Toolbar(toolitems=[('Home', 'Reset original view', 'home', 'home'), ('Back', 'Back to previous …"
      ]
     },
     "metadata": {},
     "output_type": "display_data"
    }
   ],
   "source": [
    "import corner\n",
    "\n",
    "# discard burn-in points and thin chains by the autocorrelation length\n",
    "discard = int(0.5 * steps)\n",
    "# thin = int(np.mean(sampler.get_autocorr_time(discard=discard)))\n",
    "thin = 20\n",
    "\n",
    "# compute vsini and lambda\n",
    "posterior = sampler.get_chain(discard=discard, thin=thin, flat=True)\n",
    "_vsini = np.sum(posterior**2, axis=-1)\n",
    "_ell = np.rad2deg(np.arctan2(*posterior.T))\n",
    "posterior = np.column_stack((_vsini, _ell))\n",
    "\n",
    "labels = [\"$v\\sin{i}$ (km/s)\", \"$\\lambda$ (deg)\"]\n",
    "\n",
    "fig = corner.corner(posterior,\n",
    "             labels=labels, show_titles=True, title_fmt=\".2f\",\n",
    "            truths=[vsini, ell])"
   ]
  },
  {
   "cell_type": "markdown",
   "metadata": {},
   "source": [
    "From the corner plot above we see that we recover the true values. Finally, we plot the best-fitting model to the data."
   ]
  },
  {
   "cell_type": "code",
   "execution_count": 139,
   "metadata": {},
   "outputs": [],
   "source": [
    "theta_ml = posterior[np.argmax(sampler.get_log_prob(discard=discard, thin=thin, flat=True))]\n",
    "\n",
    "rv_mod = orbit(*theta_ml, istar, alpha, phase=phase)\n",
    "\n",
    "phase_f = np.linspace(-0.5 * dur14/period, 0.5 * dur14/period, 200)\n",
    "rv_mod_f = orbit(*theta_ml, istar, alpha, phase=phase_f)\n",
    "\n",
    "samples = np.atleast_2d([orbit(*posterior[i], istar, alpha,\n",
    "                            phase=phase_f)\n",
    "                             for i in np.random.randint(0,posterior.shape[0],100)])\n",
    "\n",
    "n2 = 1\n",
    "# y2 = rv + rv_err * np.random.randn(len(rv))\n",
    "y2 = [rv + rv_err * np.random.randn(len(rv)) for _ in range(n2)]\n",
    "x2 = [phase + 0.0005 * np.random.randn(len(rv)) for _ in range(n2)]\n",
    "yerr2 = [rv_err]*n2\n",
    "omc2 = [y2[i] - rv_mod for i in range(n2)]\n",
    "# print(y2)\n",
    "\n",
    "# xl\n",
    "# yl\n",
    "# yerrl = \n",
    "\n",
    "# fig = plots.plot_rv(phase, rv, rv_err, xmod=phase_f, ymod=rv_mod_f, residual=rv - rv_mod)\n",
    "ymod_sd2 = np.std(samples, axis=0)"
   ]
  },
  {
   "cell_type": "code",
   "execution_count": 116,
   "metadata": {},
   "outputs": [
    {
     "data": {
      "text/plain": [
       "array([       nan, 0.05101655, 0.05083024, 0.05065222, 0.0504664 ,\n",
       "       0.05027799, 0.05008439, 0.04989599, 0.04970307, 0.0495025 ,\n",
       "       0.04930822, 0.04910577, 0.04890118, 0.04869641, 0.04848698,\n",
       "       0.04827933, 0.04806564, 0.04784263, 0.04761552, 0.04738074,\n",
       "       0.0471335 , 0.04688365, 0.04661071, 0.04631251, 0.04596873,\n",
       "       0.04559784, 0.04522217, 0.04484392, 0.0444643 , 0.04408406,\n",
       "       0.04370373, 0.04332372, 0.04294434, 0.04256583, 0.04218843,\n",
       "       0.04181229, 0.04143759, 0.04106447, 0.04069306, 0.04032348,\n",
       "       0.03995585, 0.03959029, 0.03922688, 0.03886575, 0.03850699,\n",
       "       0.0381507 , 0.03779699, 0.03744594, 0.03709767, 0.03675228,\n",
       "       0.03640985, 0.03607051, 0.03573435, 0.03540148, 0.03507201,\n",
       "       0.03474604, 0.03442369, 0.03410507, 0.0337903 , 0.03347949,\n",
       "       0.03317277, 0.03287026, 0.03257209, 0.03227837, 0.03198925,\n",
       "       0.03170485, 0.03142531, 0.03115077, 0.03088135, 0.03061722,\n",
       "       0.03035849, 0.03010533, 0.02985788, 0.02961628, 0.02938068,\n",
       "       0.02915123, 0.02892809, 0.02871139, 0.0285013 , 0.02829796,\n",
       "       0.02810152, 0.02791213, 0.02772994, 0.02755509, 0.02738772,\n",
       "       0.02722798, 0.027076  , 0.02693191, 0.02679585, 0.02666794,\n",
       "       0.02654829, 0.02643702, 0.02633424, 0.02624006, 0.02615455,\n",
       "       0.02607782, 0.02600993, 0.02595096, 0.02590097, 0.02586001,\n",
       "       0.02582812, 0.02580535, 0.0257917 , 0.02578721, 0.02579187,\n",
       "       0.02580567, 0.02582861, 0.02586065, 0.02590177, 0.02595192,\n",
       "       0.02601104, 0.02607908, 0.02615596, 0.0262416 , 0.02633593,\n",
       "       0.02643884, 0.02655023, 0.02666999, 0.02679802, 0.02693418,\n",
       "       0.02707837, 0.02723043, 0.02739026, 0.02755769, 0.02773261,\n",
       "       0.02791485, 0.02810428, 0.02830074, 0.0285041 , 0.0287142 ,\n",
       "       0.02893088, 0.029154  , 0.02938341, 0.02961895, 0.02986048,\n",
       "       0.03010785, 0.0303609 , 0.0306195 , 0.03088349, 0.03115274,\n",
       "       0.03142709, 0.03170641, 0.03199057, 0.03227941, 0.03257282,\n",
       "       0.03287066, 0.03317279, 0.0334791 , 0.03378944, 0.03410371,\n",
       "       0.03442177, 0.0347435 , 0.03506879, 0.03539751, 0.03572956,\n",
       "       0.0360648 , 0.03640314, 0.03674444, 0.03708859, 0.03743548,\n",
       "       0.03778498, 0.03813697, 0.03849132, 0.0388479 , 0.03920656,\n",
       "       0.03956715, 0.0399295 , 0.04029343, 0.04065871, 0.04102509,\n",
       "       0.04139227, 0.04175984, 0.04212728, 0.04249386, 0.04285844,\n",
       "       0.04321884, 0.04355287, 0.04384589, 0.04411555, 0.04436374,\n",
       "       0.04460972, 0.04484409, 0.04507153, 0.04529397, 0.04550911,\n",
       "       0.04571874, 0.04592992, 0.04613705, 0.04634482, 0.04654997,\n",
       "       0.04674848, 0.04695223, 0.0471515 , 0.04734606, 0.04754455,\n",
       "       0.04773871, 0.04793055, 0.04811803, 0.04830949,        nan])"
      ]
     },
     "execution_count": 116,
     "metadata": {},
     "output_type": "execute_result"
    }
   ],
   "source": [
    "# from matplotlib import cm\n",
    "# reds = cm.get_cmap('Reds', 12)\n",
    "# print('viridis(range(12))', reds(range(12)))\n",
    "# ymod_sd"
   ]
  },
  {
   "cell_type": "code",
   "execution_count": 153,
   "metadata": {},
   "outputs": [
    {
     "data": {
      "application/vnd.jupyter.widget-view+json": {
       "model_id": "21f1cb84f1064da1b94984f8162682cb",
       "version_major": 2,
       "version_minor": 0
      },
      "text/plain": [
       "Canvas(toolbar=Toolbar(toolitems=[('Home', 'Reset original view', 'home', 'home'), ('Back', 'Back to previous …"
      ]
     },
     "metadata": {},
     "output_type": "display_data"
    }
   ],
   "source": [
    "fig = plots.plot_rv(x2, y2, yerr2, xmod=phase_f, ymod=rv_mod_f, residual=omc2, ymod_sd=ymod_sd2)\n",
    "\n",
    "plt.style.use('paper')\n",
    "# fig = plt.figure()\n",
    "# print(fig.get_size_inches())"
   ]
  },
  {
   "cell_type": "code",
   "execution_count": 137,
   "metadata": {},
   "outputs": [
    {
     "data": {
      "application/vnd.jupyter.widget-view+json": {
       "model_id": "466352f1f8ac4d73b6b63a1708fb4fcf",
       "version_major": 2,
       "version_minor": 0
      },
      "text/plain": [
       "Canvas(toolbar=Toolbar(toolitems=[('Home', 'Reset original view', 'home', 'home'), ('Back', 'Back to previous …"
      ]
     },
     "metadata": {},
     "output_type": "display_data"
    },
    {
     "data": {
      "text/plain": [
       "<matplotlib.lines.Line2D at 0x1a817a0150>"
      ]
     },
     "execution_count": 137,
     "metadata": {},
     "output_type": "execute_result"
    }
   ],
   "source": [
    "theta_ml = posterior[np.argmax(sampler.get_log_prob(discard=discard, thin=thin, flat=True))]\n",
    "\n",
    "rv_mod = orbit(*theta_ml, istar, alpha, phase=phase)\n",
    "\n",
    "phase_f = np.linspace(-0.5 * dur14/period, 0.5 * dur14/period, 200)\n",
    "rv_mod_f = orbit(*theta_ml, istar, alpha, phase=phase_f)\n",
    "\n",
    "gridspec_kw = {\n",
    "              'height_ratios':[3,1], \n",
    "              'hspace':0.03,\n",
    "              'wspace':0.02\n",
    "              }\n",
    "\n",
    "fig, (ax1, ax2) = plt.subplots(2, 1, gridspec_kw=gridspec_kw)\n",
    "\n",
    "\n",
    "ax1.set_ylabel('stellar surface velocity (km/s)')\n",
    "ax1.tick_params(axis='x', which='both', labelbottom=False)\n",
    "ax2.set_xlabel('phase')\n",
    "ax2.set_ylabel(\"O - C (km/s)\")\n",
    "\n",
    "c1, c2, c3, c4 = 0.5 / period * np.array([-dur14, -dur23, dur23, dur14])\n",
    "\n",
    "ax1.axvline(c1, c='#aaaaaa', lw=1, ls='solid')\n",
    "ax1.axvline(c2, c='#aaaaaa', lw=1, ls='dotted')\n",
    "ax1.axvline(c3, c='#aaaaaa', lw=1, ls='dotted')\n",
    "ax1.axvline(c4, c='#aaaaaa', lw=1, ls='solid')\n",
    "\n",
    "ax1.errorbar(phase, rv, yerr=rv_err, capsize=0, c='k', fmt='.', elinewidth=0.5)\n",
    "ax1.plot(phase_f, rv_mod_f, color='C0', lw=1.5)\n",
    "\n",
    "ax2.errorbar(phase, rv - rv_mod, yerr=rv_err, capsize=0, c='k', fmt='.', elinewidth=0.5)\n",
    "ax2.axhline(0, c=\"#aaaaaa\", lw=1.5)\n"
   ]
  },
  {
   "cell_type": "code",
   "execution_count": null,
   "metadata": {},
   "outputs": [],
   "source": []
  }
 ],
 "metadata": {
  "kernelspec": {
   "display_name": "Python 3",
   "language": "python",
   "name": "python3"
  },
  "language_info": {
   "codemirror_mode": {
    "name": "ipython",
    "version": 3
   },
   "file_extension": ".py",
   "mimetype": "text/x-python",
   "name": "python",
   "nbconvert_exporter": "python",
   "pygments_lexer": "ipython3",
   "version": "3.7.4"
  }
 },
 "nbformat": 4,
 "nbformat_minor": 4
}
